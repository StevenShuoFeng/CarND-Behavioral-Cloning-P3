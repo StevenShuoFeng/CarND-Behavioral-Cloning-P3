{
 "cells": [
  {
   "cell_type": "markdown",
   "metadata": {},
   "source": [
    "The generator will load a batch of training samples each time. And for each single training sample, 3 images are all used from 3 cameras and 6 training samples are created after flipping left-right."
   ]
  },
  {
   "cell_type": "code",
   "execution_count": 1,
   "metadata": {
    "collapsed": true
   },
   "outputs": [],
   "source": [
    "import csv\n",
    "import cv2\n",
    "import numpy as np\n",
    "import sklearn\n",
    "from sklearn.utils import shuffle\n",
    "\n",
    "def loadImageFromSingleTimeFrame(line):\n",
    "    xs = []\n",
    "    ys = []\n",
    "    \n",
    "    correction = 0.22\n",
    "    \n",
    "    for view in range(3):\n",
    "        origPath = line[view]\n",
    "        filename = origPath.split('/')[-1]\n",
    "        newPath = \"data/IMG/\" + filename\n",
    "        \n",
    "        x = cv2.imread(newPath)\n",
    "        x = cv2.cvtColor(x, cv2.COLOR_BGR2RGB)\n",
    "        \n",
    "        steer = float(line[3])\n",
    "                       \n",
    "        if view == 1: # Left view\n",
    "            steer += correction\n",
    "        if view == 2: # Right view\n",
    "            steer -= correction\n",
    "        \n",
    "        xs.append(np.array(x))\n",
    "        ys.append(steer)\n",
    "        \n",
    "    \n",
    "    return xs,ys\n",
    "\n",
    "def generator(samples, batch_size=32):\n",
    "    num_samples = len(samples)\n",
    "    while 1: # Loop forever so the generator never terminates\n",
    "        shuffle(samples)\n",
    "        for offset in range(0, num_samples, batch_size):\n",
    "            batch_samples = samples[offset:offset+batch_size]\n",
    "\n",
    "            images = []\n",
    "            angles = []\n",
    "            for line_sample in batch_samples:\n",
    "                xs, ys = loadImageFromSingleTimeFrame(line_sample)\n",
    "                for i in range(len(xs)):\n",
    "                    x = xs[i]\n",
    "                    y = ys[i]\n",
    "                    images.append(x)\n",
    "                    angles.append(y)\n",
    "                    images.append(cv2.flip(x, 1))\n",
    "                    angles.append(-1*y)\n",
    "\n",
    "            X_train = np.array(images)\n",
    "            y_train = np.array(angles)\n",
    "            yield shuffle(X_train, y_train)\n"
   ]
  },
  {
   "cell_type": "markdown",
   "metadata": {},
   "source": [
    "Build the neural network model structure. Two versions of networks are tried out, the AlexNet and the NvidiaNet."
   ]
  },
  {
   "cell_type": "code",
   "execution_count": 2,
   "metadata": {},
   "outputs": [],
   "source": [
    "# useAlexNet = True\n",
    "useAlexNet = False"
   ]
  },
  {
   "cell_type": "code",
   "execution_count": 3,
   "metadata": {},
   "outputs": [
    {
     "name": "stderr",
     "output_type": "stream",
     "text": [
      "Using TensorFlow backend.\n"
     ]
    },
    {
     "name": "stdout",
     "output_type": "stream",
     "text": [
      "____________________________________________________________________________________________________\n",
      "Layer (type)                     Output Shape          Param #     Connected to                     \n",
      "====================================================================================================\n",
      "lambda_1 (Lambda)                (None, 160, 320, 3)   0           lambda_input_1[0][0]             \n",
      "____________________________________________________________________________________________________\n",
      "cropping2d_1 (Cropping2D)        (None, 80, 320, 3)    0           lambda_1[0][0]                   \n",
      "____________________________________________________________________________________________________\n",
      "convolution2d_1 (Convolution2D)  (None, 38, 158, 24)   1824        cropping2d_1[0][0]               \n",
      "____________________________________________________________________________________________________\n",
      "convolution2d_2 (Convolution2D)  (None, 17, 77, 36)    21636       convolution2d_1[0][0]            \n",
      "____________________________________________________________________________________________________\n",
      "convolution2d_3 (Convolution2D)  (None, 7, 37, 48)     43248       convolution2d_2[0][0]            \n",
      "____________________________________________________________________________________________________\n",
      "convolution2d_4 (Convolution2D)  (None, 5, 35, 64)     27712       convolution2d_3[0][0]            \n",
      "____________________________________________________________________________________________________\n",
      "convolution2d_5 (Convolution2D)  (None, 3, 33, 64)     36928       convolution2d_4[0][0]            \n",
      "____________________________________________________________________________________________________\n",
      "flatten_1 (Flatten)              (None, 6336)          0           convolution2d_5[0][0]            \n",
      "____________________________________________________________________________________________________\n",
      "dropout_1 (Dropout)              (None, 6336)          0           flatten_1[0][0]                  \n",
      "____________________________________________________________________________________________________\n",
      "dense_1 (Dense)                  (None, 100)           633700      dropout_1[0][0]                  \n",
      "____________________________________________________________________________________________________\n",
      "dropout_2 (Dropout)              (None, 100)           0           dense_1[0][0]                    \n",
      "____________________________________________________________________________________________________\n",
      "dense_2 (Dense)                  (None, 50)            5050        dropout_2[0][0]                  \n",
      "____________________________________________________________________________________________________\n",
      "dense_3 (Dense)                  (None, 10)            510         dense_2[0][0]                    \n",
      "____________________________________________________________________________________________________\n",
      "dense_4 (Dense)                  (None, 1)             11          dense_3[0][0]                    \n",
      "====================================================================================================\n",
      "Total params: 770,619\n",
      "Trainable params: 770,619\n",
      "Non-trainable params: 0\n",
      "____________________________________________________________________________________________________\n"
     ]
    }
   ],
   "source": [
    "from keras.models import Sequential\n",
    "from keras.layers import Input, Flatten, Dense, Lambda, Convolution2D,MaxPooling2D, Dropout, Cropping2D\n",
    "from keras.optimizers import Adam\n",
    "import tensorflow as tf\n",
    "\n",
    "top_crop, bottom_crop = 60, 20\n",
    "ch, row, col = 3, 160, 320  # Trimmed image format\n",
    "\n",
    "model = Sequential()\n",
    "model.add(Lambda(lambda x:x/127.5 - 1.0, input_shape=(row,col,ch)))\n",
    "# trim image to only see section with road\n",
    "model.add(Cropping2D(cropping=((top_crop,bottom_crop), (0,0)), dim_ordering='tf'))\n",
    "# model.add(Lambda(lambda image: tf.image.resize_images(image, (64, 64))))\n",
    "    \n",
    "def AlexNet(model):\n",
    "    model.add(Convolution2D(6,5,5,activation=\"relu\"))\n",
    "    model.add(MaxPooling2D())\n",
    "    model.add(Convolution2D(6,5,5,activation=\"relu\"))\n",
    "    model.add(MaxPooling2D())\n",
    "    model.add(Flatten())\n",
    "    model.add(Dense(120))\n",
    "    model.add(Dropout(0.2))\n",
    "    model.add(Dense(84))\n",
    "    model.add(Dropout(0.2))\n",
    "    model.add(Dense(1))\n",
    "    return model\n",
    "\n",
    "def NvidiaNet(model):\n",
    "    model.add(Convolution2D(24,5,5, subsample=(2,2),activation=\"relu\"))\n",
    "    model.add(Convolution2D(36,5,5, subsample=(2,2),activation=\"relu\"))\n",
    "    model.add(Convolution2D(48,5,5, subsample=(2,2),activation=\"relu\"))\n",
    "    model.add(Convolution2D(64,3,3, activation=\"relu\"))\n",
    "    model.add(Convolution2D(64,3,3, activation=\"relu\"))\n",
    "    model.add(Flatten())\n",
    "    model.add(Dropout(0.2))\n",
    "    model.add(Dense(100))\n",
    "    model.add(Dropout(0.2))\n",
    "    model.add(Dense(50))\n",
    "    model.add(Dense(10))\n",
    "    model.add(Dense(1))\n",
    "    return model\n",
    "\n",
    "if useAlexNet:\n",
    "    model = AlexNet(model)\n",
    "else:\n",
    "    model = NvidiaNet(model)\n",
    "    \n",
    "model.summary()"
   ]
  },
  {
   "cell_type": "code",
   "execution_count": 4,
   "metadata": {},
   "outputs": [
    {
     "name": "stdout",
     "output_type": "stream",
     "text": [
      "Training size:  10360\n",
      "Validation size:  2591\n"
     ]
    }
   ],
   "source": [
    "# load training file list\n",
    "lines = []\n",
    "with open('data/driving_log.csv') as csvfile:\n",
    "    reader = csv.reader(csvfile)\n",
    "    for line in reader:\n",
    "        lines.append(line)\n",
    "        \n",
    "from sklearn.model_selection import train_test_split\n",
    "train_lines, validation_lines = train_test_split(lines, test_size=0.2, shuffle=True)\n",
    "\n",
    "print('Training size: ', len(train_lines))\n",
    "print('Validation size: ', len(validation_lines))\n",
    "\n",
    "batchSize = 128\n",
    "# compile and train the model using the generator function\n",
    "train_generator = generator(train_lines, batch_size=batchSize)\n",
    "validation_generator = generator(validation_lines, batch_size=batchSize)\n"
   ]
  },
  {
   "cell_type": "markdown",
   "metadata": {},
   "source": [
    "Visualize the distribution of training angles. Hopefully it's balanced between turning left and right (positive, negative)."
   ]
  },
  {
   "cell_type": "code",
   "execution_count": 33,
   "metadata": {},
   "outputs": [
    {
     "data": {
      "image/png": "[encoded data removed]",
      "text/plain": [
       "<matplotlib.figure.Figure at 0x7f3defb6eef0>"
      ]
     },
     "metadata": {},
     "output_type": "display_data"
    },
    {
     "name": "stdout",
     "output_type": "stream",
     "text": [
      "1.0\n"
     ]
    }
   ],
   "source": [
    "import matplotlib.pyplot as plt\n",
    "plt.rcParams['figure.figsize'] = (15,6)\n",
    "\n",
    "def allAngles(lines):\n",
    "    angles = []\n",
    "    for l in lines:\n",
    "        angles.append(float(l[3]))\n",
    "    return angles\n",
    "\n",
    "train_angles = np.array(allAngles(train_lines))\n",
    "valid_angles = np.array(allAngles(validation_lines))\n",
    "\n",
    "plt.subplot(1,2, 1)\n",
    "plt.hist(train_angles, bins=40)\n",
    "plt.title('distribution of training angles')\n",
    "plt.ylabel('histogram of angles')\n",
    "plt.xlabel('angles')\n",
    "\n",
    "plt.subplot(1,2, 2)\n",
    "plt.hist(valid_angles, bins=40)\n",
    "plt.title('distribution of validation angles')\n",
    "plt.ylabel('histogram of angles')\n",
    "plt.xlabel('angles')\n",
    "plt.show()\n",
    "\n",
    "print(valid_angles.max())"
   ]
  },
  {
   "cell_type": "code",
   "execution_count": 5,
   "metadata": {},
   "outputs": [
    {
     "name": "stdout",
     "output_type": "stream",
     "text": [
      "Epoch 1/25\n",
      " 9984/10360 [===========================>..] - ETA: 1s - loss: 0.1594"
     ]
    },
    {
     "name": "stderr",
     "output_type": "stream",
     "text": [
      "/home/carnd/anaconda3/envs/carnd-term1/lib/python3.5/site-packages/keras/engine/training.py:1569: UserWarning: Epoch comprised more than `samples_per_epoch` samples, which might affect learning results. Set `samples_per_epoch` correctly to avoid this warning.\n",
      "  warnings.warn('Epoch comprised more than '\n"
     ]
    },
    {
     "name": "stdout",
     "output_type": "stream",
     "text": [
      "10752/10360 [===============================] - 38s - loss: 0.1580 - val_loss: 0.1385\n",
      "Epoch 2/25\n",
      "10752/10360 [===============================] - 31s - loss: 0.1391 - val_loss: 0.1375\n",
      "Epoch 3/25\n",
      "10752/10360 [===============================] - 31s - loss: 0.1331 - val_loss: 0.1292\n",
      "Epoch 4/25\n",
      "10752/10360 [===============================] - 31s - loss: 0.1206 - val_loss: 0.1448\n",
      "Epoch 5/25\n",
      "10752/10360 [===============================] - 31s - loss: 0.1236 - val_loss: 0.1118\n",
      "Epoch 6/25\n",
      "10704/10360 [==============================] - 36s - loss: 0.1257 - val_loss: 0.1199\n",
      "Epoch 7/25\n",
      "10752/10360 [===============================] - 30s - loss: 0.1158 - val_loss: 0.1268\n",
      "Epoch 8/25\n",
      "10752/10360 [===============================] - 31s - loss: 0.1108 - val_loss: 0.1051\n",
      "Epoch 9/25\n",
      "10752/10360 [===============================] - 31s - loss: 0.1060 - val_loss: 0.0983\n",
      "Epoch 10/25\n",
      "10752/10360 [===============================] - 31s - loss: 0.0994 - val_loss: 0.1153\n",
      "Epoch 11/25\n",
      "10752/10360 [===============================] - 31s - loss: 0.1049 - val_loss: 0.0945\n",
      "Epoch 12/25\n",
      "10704/10360 [==============================] - 31s - loss: 0.1041 - val_loss: 0.0888\n",
      "Epoch 13/25\n",
      "10752/10360 [===============================] - 31s - loss: 0.0921 - val_loss: 0.1012\n",
      "Epoch 14/25\n",
      "10752/10360 [===============================] - 31s - loss: 0.0971 - val_loss: 0.0939\n",
      "Epoch 15/25\n",
      "10752/10360 [===============================] - 31s - loss: 0.0944 - val_loss: 0.0912\n",
      "Epoch 16/25\n",
      "10752/10360 [===============================] - 31s - loss: 0.0910 - val_loss: 0.0960\n",
      "Epoch 17/25\n",
      "10752/10360 [===============================] - 31s - loss: 0.0988 - val_loss: 0.0952\n",
      "Epoch 18/25\n",
      "10704/10360 [==============================] - 31s - loss: 0.0921 - val_loss: 0.0981\n",
      "Epoch 19/25\n",
      "10752/10360 [===============================] - 31s - loss: 0.0814 - val_loss: 0.0992\n",
      "Epoch 20/25\n",
      "10752/10360 [===============================] - 31s - loss: 0.0948 - val_loss: 0.0928\n",
      "Epoch 21/25\n",
      "10752/10360 [===============================] - 31s - loss: 0.0887 - val_loss: 0.1033\n",
      "Epoch 22/25\n",
      "10752/10360 [===============================] - 31s - loss: 0.0878 - val_loss: 0.0875\n",
      "Epoch 23/25\n",
      "10752/10360 [===============================] - 31s - loss: 0.0935 - val_loss: 0.0857\n",
      "Epoch 24/25\n",
      "10704/10360 [==============================] - 30s - loss: 0.0855 - val_loss: 0.0955\n",
      "Epoch 25/25\n",
      "10752/10360 [===============================] - 31s - loss: 0.0826 - val_loss: 0.0863\n"
     ]
    }
   ],
   "source": [
    "\n",
    "adam = Adam(lr=1e-4, beta_1=0.9, beta_2=0.999, epsilon=1e-08, decay=0.0)\n",
    "model.compile(loss='mse', optimizer=adam)\n",
    "\n",
    "# history_object = model.fit(X_train, y_train, validation_split=0.2, shuffle=True, nb_epoch=10, batch_size=256, verbose=1)\n",
    "\n",
    "history_object = model.fit_generator(train_generator, samples_per_epoch=len(train_lines), \\\n",
    "                                     validation_data=validation_generator, \\\n",
    "                                     nb_val_samples=len(validation_lines), \\\n",
    "                                     nb_epoch=12, \\\n",
    "                                     verbose = 1)\n",
    "\n",
    "if useAlexNet:\n",
    "    model.save('model_center_andLeftRight_cropped_TwoTracks_AlexNet.h5')\n",
    "else:\n",
    "    model.save('model_center_andLeftRight_cropped_TwoTracks_NvidiaNet.h5')\n"
   ]
  },
  {
   "cell_type": "code",
   "execution_count": 6,
   "metadata": {},
   "outputs": [],
   "source": [
    "import json\n",
    "\n",
    "json_string = model.to_json()\n",
    "filename_jsonModel = 'model_center_andLeftRight_cropped_TwoTracks_NvidiaNet.json'\n",
    "with open(filename_jsonModel, 'w') as jfile:\n",
    "    json.dump(json_string, jfile)"
   ]
  },
  {
   "cell_type": "code",
   "execution_count": 7,
   "metadata": {},
   "outputs": [
    {
     "name": "stdout",
     "output_type": "stream",
     "text": [
      "dict_keys(['loss', 'val_loss'])\n"
     ]
    },
    {
     "data": {
      "image/png": "[encoded data removed]",
      "text/plain": [
       "<matplotlib.figure.Figure at 0x7f3e70716198>"
      ]
     },
     "metadata": {},
     "output_type": "display_data"
    }
   ],
   "source": [
    "from keras.models import Model\n",
    "\n",
    "### print the keys contained in the history object\n",
    "print(history_object.history.keys())\n",
    "\n",
    "### plot the training and validation loss for each epoch\n",
    "plt.plot(history_object.history['loss'])\n",
    "plt.plot(history_object.history['val_loss'])\n",
    "plt.title('model mean squared error loss')\n",
    "plt.ylabel('mean squared error loss')\n",
    "plt.xlabel('epoch')\n",
    "plt.legend(['training set', 'validation set'], loc='upper right')\n",
    "plt.show()"
   ]
  },
  {
   "cell_type": "code",
   "execution_count": null,
   "metadata": {
    "collapsed": true
   },
   "outputs": [],
   "source": []
  },
  {
   "cell_type": "code",
   "execution_count": null,
   "metadata": {
    "collapsed": true
   },
   "outputs": [],
   "source": []
  }
 ],
 "metadata": {
  "anaconda-cloud": {},
  "kernelspec": {
   "display_name": "Python 3",
   "language": "python",
   "name": "python3"
  },
  "language_info": {
   "codemirror_mode": {
    "name": "ipython",
    "version": 3
   },
   "file_extension": ".py",
   "mimetype": "text/x-python",
   "name": "python",
   "nbconvert_exporter": "python",
   "pygments_lexer": "ipython3",
   "version": "3.5.2"
  },
  "widgets": {
   "state": {},
   "version": "1.1.2"
  }
 },
 "nbformat": 4,
 "nbformat_minor": 2
}
