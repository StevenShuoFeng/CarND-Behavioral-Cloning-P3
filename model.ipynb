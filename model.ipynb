{
 "cells": [
  {
   "cell_type": "code",
   "execution_count": 16,
   "metadata": {},
   "outputs": [
    {
     "name": "stdout",
     "output_type": "stream",
     "text": [
      "X size: (24810, 160, 320, 3)\n",
      "y size: (24810,)\n",
      "img sample size: (160, 320, 3)\n"
     ]
    }
   ],
   "source": [
    "import csv\n",
    "import cv2\n",
    "import numpy as np\n",
    "\n",
    "def loadImage(line):\n",
    "    xs = []\n",
    "    ys = []\n",
    "    \n",
    "    correction = 0.2\n",
    "    \n",
    "    for view in range(3):\n",
    "        origPath = line[view]\n",
    "        filename = origPath.split('/')[-1]\n",
    "        newPath = \"data/IMG/\" + filename\n",
    "        \n",
    "        x = cv2.imread(newPath)\n",
    "        steer = float(line[3])\n",
    "                       \n",
    "        if view == 1: # Left view\n",
    "            steer += correction\n",
    "        if view == 2: # Right view\n",
    "            steer -= correction\n",
    "        \n",
    "        xs.append(np.array(x))\n",
    "        ys.append(steer)\n",
    "        \n",
    "    \n",
    "    return xs,ys\n",
    "\n",
    "# load training file list\n",
    "lines = []\n",
    "with open('data/driving_log.csv') as csvfile:\n",
    "    reader = csv.reader(csvfile)\n",
    "    for line in reader:\n",
    "        lines.append(line)\n",
    "        \n",
    "# load images and steering angle\n",
    "images = []\n",
    "measurements = []\n",
    "for line in lines:\n",
    "    xs, ys = loadImage(line)\n",
    "    for i in range(len(xs)):\n",
    "        x = xs[i]\n",
    "        y = ys[i]\n",
    "        images.append(x)\n",
    "        measurements.append(y)\n",
    "        images.append(cv2.flip(x, 1))\n",
    "        measurements.append(-1*y)\n",
    "    \n",
    "X_train = np.array(images)\n",
    "y_train = np.array(measurements)\n",
    "\n",
    "img_shape = X_train[0].shape\n",
    "\n",
    "print('X size:', X_train.shape)\n",
    "print('y size:', y_train.shape)\n",
    "print('img sample size:', img_shape)"
   ]
  },
  {
   "cell_type": "code",
   "execution_count": 17,
   "metadata": {},
   "outputs": [
    {
     "name": "stdout",
     "output_type": "stream",
     "text": [
      "Train on 19848 samples, validate on 4962 samples\n",
      "Epoch 1/10\n",
      "19848/19848 [==============================] - 79s - loss: 0.0330 - val_loss: 0.0368\n",
      "Epoch 2/10\n",
      "19848/19848 [==============================] - 79s - loss: 0.0225 - val_loss: 0.0343\n",
      "Epoch 3/10\n",
      "19848/19848 [==============================] - 79s - loss: 0.0190 - val_loss: 0.0353\n",
      "Epoch 4/10\n",
      "19848/19848 [==============================] - 79s - loss: 0.0160 - val_loss: 0.0397\n",
      "Epoch 5/10\n",
      "19848/19848 [==============================] - 79s - loss: 0.0133 - val_loss: 0.0449\n",
      "Epoch 6/10\n",
      "19848/19848 [==============================] - 79s - loss: 0.0115 - val_loss: 0.0468\n",
      "Epoch 7/10\n",
      "19848/19848 [==============================] - 79s - loss: 0.0102 - val_loss: 0.0489\n",
      "Epoch 8/10\n",
      "19848/19848 [==============================] - 79s - loss: 0.0087 - val_loss: 0.0477\n",
      "Epoch 9/10\n",
      "19848/19848 [==============================] - 78s - loss: 0.0077 - val_loss: 0.0464\n",
      "Epoch 10/10\n",
      "19848/19848 [==============================] - 78s - loss: 0.0069 - val_loss: 0.0477\n"
     ]
    }
   ],
   "source": [
    "from keras.models import Sequential\n",
    "from keras.layers import Input, Flatten, Dense, Lambda, Convolution2D,MaxPooling2D, Dropout, Cropping2D\n",
    "\n",
    "top_crop = 50\n",
    "bottom_crop = 20\n",
    "\n",
    "def AlexNet():\n",
    "    model = Sequential()\n",
    "    model.add(Cropping2D(cropping=((top_crop,bottom_crop), (0,0)), input_shape=(160,320,3), dim_ordering='tf'))\n",
    "    model.add(Lambda(lambda x:x/255.0-0.5))\n",
    "    model.add(Convolution2D(6,5,5,activation=\"relu\"))\n",
    "    model.add(MaxPooling2D())\n",
    "    model.add(Convolution2D(6,5,5,activation=\"relu\"))\n",
    "    model.add(MaxPooling2D())\n",
    "    model.add(Flatten())\n",
    "    model.add(Dense(120))\n",
    "    model.add(Dropout(0.2))\n",
    "    model.add(Dense(84))\n",
    "    model.add(Dropout(0.2))\n",
    "    model.add(Dense(1))\n",
    "    return model\n",
    "\n",
    "def NvidiaNet():\n",
    "    model = Sequential()\n",
    "    model.add(Cropping2D(cropping=((top_crop,bottom_crop), (0,0)), input_shape=(160,320,3), dim_ordering='tf'))\n",
    "    model.add(Lambda(lambda x:x/255.0-0.5))\n",
    "    model.add(Convolution2D(24,5,5, subsample=(2,2),activation=\"relu\"))\n",
    "    model.add(Convolution2D(36,5,5, subsample=(2,2),activation=\"relu\"))\n",
    "    model.add(Convolution2D(48,5,5, subsample=(2,2),activation=\"relu\"))\n",
    "    model.add(Convolution2D(64,3,3, activation=\"relu\"))\n",
    "    model.add(Convolution2D(64,3,3, activation=\"relu\"))\n",
    "    model.add(Flatten())\n",
    "    model.add(Dense(100))\n",
    "    model.add(Dense(50))\n",
    "    model.add(Dense(10))\n",
    "    model.add(Dense(1))\n",
    "    return model\n",
    "\n",
    "model = NvidiaNet()\n",
    "model.compile(loss='mse', optimizer='adam')\n",
    "model.fit(X_train, y_train, validation_split=0.2, shuffle=True, nb_epoch=10, batch_size=256)\n",
    "\n",
    "model.save('model.h5')"
   ]
  },
  {
   "cell_type": "code",
   "execution_count": null,
   "metadata": {
    "collapsed": true
   },
   "outputs": [],
   "source": []
  }
 ],
 "metadata": {
  "anaconda-cloud": {},
  "kernelspec": {
   "display_name": "Python 3",
   "language": "python",
   "name": "python3"
  },
  "language_info": {
   "codemirror_mode": {
    "name": "ipython",
    "version": 3
   },
   "file_extension": ".py",
   "mimetype": "text/x-python",
   "name": "python",
   "nbconvert_exporter": "python",
   "pygments_lexer": "ipython3",
   "version": "3.5.2"
  },
  "widgets": {
   "state": {},
   "version": "1.1.2"
  }
 },
 "nbformat": 4,
 "nbformat_minor": 2
}
