{
 "cells": [
  {
   "cell_type": "code",
   "execution_count": 1,
   "metadata": {
    "collapsed": true
   },
   "outputs": [],
   "source": [
    "import csv\n",
    "import cv2\n",
    "import numpy as np\n",
    "import sklearn\n",
    "from sklearn.utils import shuffle\n",
    "\n",
    "def loadImage(line):\n",
    "    xs = []\n",
    "    ys = []\n",
    "    \n",
    "    correction = 0.22\n",
    "    \n",
    "    for view in range(3):\n",
    "        origPath = line[view]\n",
    "        filename = origPath.split('/')[-1]\n",
    "        newPath = \"data/IMG/\" + filename\n",
    "        \n",
    "        x = cv2.imread(newPath)\n",
    "        x = cv2.cvtColor(x, cv2.COLOR_BGR2RGB)\n",
    "        \n",
    "        steer = float(line[3])\n",
    "                       \n",
    "        if view == 1: # Left view\n",
    "            steer += correction\n",
    "        if view == 2: # Right view\n",
    "            steer -= correction\n",
    "        \n",
    "        xs.append(np.array(x))\n",
    "        ys.append(steer)\n",
    "        \n",
    "    \n",
    "    return xs,ys\n",
    "\n",
    "def generator(samples, batch_size=32):\n",
    "    num_samples = len(samples)\n",
    "    while 1: # Loop forever so the generator never terminates\n",
    "        shuffle(samples)\n",
    "        for offset in range(0, num_samples, batch_size):\n",
    "            batch_samples = samples[offset:offset+batch_size]\n",
    "\n",
    "            images = []\n",
    "            angles = []\n",
    "            for batch_sample in batch_samples:\n",
    "                xs, ys = loadImage(batch_sample)\n",
    "                for i in range(len(xs)):\n",
    "                    x = xs[i]\n",
    "                    y = ys[i]\n",
    "                    images.append(x)\n",
    "                    angles.append(y)\n",
    "                    images.append(cv2.flip(x, 1))\n",
    "                    angles.append(-1*y)\n",
    "\n",
    "#             print(\"#lines {}, #batch_lines {}, ylen {}, total {}\".format(len(samples), len(batch_samples), len(ys), len(angles)))\n",
    "            # trim image to only see section with road\n",
    "            X_train = np.array(images)\n",
    "            y_train = np.array(angles)\n",
    "            yield shuffle(X_train, y_train)\n"
   ]
  },
  {
   "cell_type": "code",
   "execution_count": 2,
   "metadata": {},
   "outputs": [
    {
     "name": "stderr",
     "output_type": "stream",
     "text": [
      "Using TensorFlow backend.\n"
     ]
    }
   ],
   "source": [
    "from keras.models import Sequential\n",
    "from keras.layers import Input, Flatten, Dense, Lambda, Convolution2D,MaxPooling2D, Dropout, Cropping2D\n",
    "from keras.optimizers import Adam\n",
    "import tensorflow as tf\n",
    "\n",
    "top_crop, bottom_crop = 60, 20\n",
    "ch, row, col = 3, 160, 320  # Trimmed image format\n",
    "\n",
    "model = Sequential()\n",
    "model.add(Lambda(lambda x:x/127.5 - 1.0, input_shape=(row,col,ch)))\n",
    "model.add(Cropping2D(cropping=((top_crop,bottom_crop), (0,0)), dim_ordering='tf'))\n",
    "# model.add(Lambda(lambda image: tf.image.resize_images(image, (64, 64))))\n",
    "    \n",
    "def AlexNet(model):\n",
    "    model.add(Convolution2D(6,5,5,activation=\"relu\"))\n",
    "    model.add(MaxPooling2D())\n",
    "    model.add(Convolution2D(6,5,5,activation=\"relu\"))\n",
    "    model.add(MaxPooling2D())\n",
    "    model.add(Flatten())\n",
    "    model.add(Dense(120))\n",
    "    model.add(Dropout(0.2))\n",
    "    model.add(Dense(84))\n",
    "    model.add(Dropout(0.2))\n",
    "    model.add(Dense(1))\n",
    "    return model\n",
    "\n",
    "def NvidiaNet(model):\n",
    "    model.add(Convolution2D(24,5,5, subsample=(2,2),activation=\"relu\"))\n",
    "    model.add(Convolution2D(36,5,5, subsample=(2,2),activation=\"relu\"))\n",
    "    model.add(Convolution2D(48,5,5, subsample=(2,2),activation=\"relu\"))\n",
    "    model.add(Convolution2D(64,3,3, activation=\"relu\"))\n",
    "    model.add(Convolution2D(64,3,3, activation=\"relu\"))\n",
    "    model.add(Flatten())\n",
    "    model.add(Dropout(0.2))\n",
    "    model.add(Dense(100))\n",
    "    model.add(Dropout(0.2))\n",
    "    model.add(Dense(50))\n",
    "    model.add(Dense(10))\n",
    "    model.add(Dense(1))\n",
    "    return model\n",
    "\n",
    "# model = AlexNet(model)\n",
    "model = NvidiaNet(model)"
   ]
  },
  {
   "cell_type": "code",
   "execution_count": 3,
   "metadata": {},
   "outputs": [
    {
     "name": "stdout",
     "output_type": "stream",
     "text": [
      "Training size:  6649\n",
      "Validation size:  1663\n"
     ]
    }
   ],
   "source": [
    "\n",
    "# load training file list\n",
    "lines = []\n",
    "with open('data/driving_log.csv') as csvfile:\n",
    "    reader = csv.reader(csvfile)\n",
    "    for line in reader:\n",
    "        lines.append(line)\n",
    "        \n",
    "from sklearn.model_selection import train_test_split\n",
    "train_lines, validation_lines = train_test_split(lines, test_size=0.2)\n",
    "\n",
    "print('Training size: ', len(train_lines))\n",
    "print('Validation size: ', len(validation_lines))\n",
    "\n",
    "batchSize = 128\n",
    "# compile and train the model using the generator function\n",
    "train_generator = generator(train_lines, batch_size=batchSize)\n",
    "validation_generator = generator(validation_lines, batch_size=batchSize)\n"
   ]
  },
  {
   "cell_type": "code",
   "execution_count": 4,
   "metadata": {},
   "outputs": [
    {
     "name": "stdout",
     "output_type": "stream",
     "text": [
      "Epoch 1/25\n",
      "6144/6649 [==========================>...] - ETA: 2s - loss: 0.1905"
     ]
    },
    {
     "name": "stderr",
     "output_type": "stream",
     "text": [
      "/home/carnd/anaconda3/envs/carnd-term1/lib/python3.5/site-packages/keras/engine/training.py:1569: UserWarning: Epoch comprised more than `samples_per_epoch` samples, which might affect learning results. Set `samples_per_epoch` correctly to avoid this warning.\n",
      "  warnings.warn('Epoch comprised more than '\n"
     ]
    },
    {
     "name": "stdout",
     "output_type": "stream",
     "text": [
      "6912/6649 [===============================] - 31s - loss: 0.1849 - val_loss: 0.1431\n",
      "Epoch 2/25\n",
      "6912/6649 [===============================] - 22s - loss: 0.1660 - val_loss: 0.1653\n",
      "Epoch 3/25\n",
      "6912/6649 [===============================] - 23s - loss: 0.1484 - val_loss: 0.1431\n",
      "Epoch 4/25\n",
      "6912/6649 [===============================] - 22s - loss: 0.1333 - val_loss: 0.1545\n",
      "Epoch 5/25\n",
      "6912/6649 [===============================] - 22s - loss: 0.1429 - val_loss: 0.1268\n",
      "Epoch 6/25\n",
      "6870/6649 [==============================] - 27s - loss: 0.1344 - val_loss: 0.1378\n",
      "Epoch 7/25\n",
      "6912/6649 [===============================] - 22s - loss: 0.1332 - val_loss: 0.1128\n",
      "Epoch 8/25\n",
      "6912/6649 [===============================] - 22s - loss: 0.1356 - val_loss: 0.1356\n",
      "Epoch 9/25\n",
      "6912/6649 [===============================] - 21s - loss: 0.1205 - val_loss: 0.1193\n",
      "Epoch 10/25\n",
      "6912/6649 [===============================] - 22s - loss: 0.1223 - val_loss: 0.1275\n",
      "Epoch 11/25\n",
      "6912/6649 [===============================] - 22s - loss: 0.1177 - val_loss: 0.1149\n",
      "Epoch 12/25\n",
      "6870/6649 [==============================] - 22s - loss: 0.1185 - val_loss: 0.1141\n",
      "Epoch 13/25\n",
      "6912/6649 [===============================] - 21s - loss: 0.1132 - val_loss: 0.1165\n",
      "Epoch 14/25\n",
      "6912/6649 [===============================] - 22s - loss: 0.1199 - val_loss: 0.1129\n",
      "Epoch 15/25\n",
      "6912/6649 [===============================] - 22s - loss: 0.1035 - val_loss: 0.1080\n",
      "Epoch 16/25\n",
      "6912/6649 [===============================] - 22s - loss: 0.1093 - val_loss: 0.1002\n",
      "Epoch 17/25\n",
      "6912/6649 [===============================] - 22s - loss: 0.1048 - val_loss: 0.1104\n",
      "Epoch 18/25\n",
      "6870/6649 [==============================] - 22s - loss: 0.1076 - val_loss: 0.0997\n",
      "Epoch 19/25\n",
      "6912/6649 [===============================] - 22s - loss: 0.1026 - val_loss: 0.1049\n",
      "Epoch 20/25\n",
      "6912/6649 [===============================] - 22s - loss: 0.1046 - val_loss: 0.0997\n",
      "Epoch 21/25\n",
      "6912/6649 [===============================] - 21s - loss: 0.0985 - val_loss: 0.0984\n",
      "Epoch 22/25\n",
      "6912/6649 [===============================] - 22s - loss: 0.1035 - val_loss: 0.0899\n",
      "Epoch 23/25\n",
      "6912/6649 [===============================] - 22s - loss: 0.0959 - val_loss: 0.1038\n",
      "Epoch 24/25\n",
      "6870/6649 [==============================] - 22s - loss: 0.0959 - val_loss: 0.0905\n",
      "Epoch 25/25\n",
      "6912/6649 [===============================] - 22s - loss: 0.0987 - val_loss: 0.1007\n"
     ]
    }
   ],
   "source": [
    "\n",
    "adam = Adam(lr=1e-4, beta_1=0.9, beta_2=0.999, epsilon=1e-08, decay=0.0)\n",
    "model.compile(loss='mse', optimizer=adam)\n",
    "\n",
    "# history_object = model.fit(X_train, y_train, validation_split=0.2, shuffle=True, nb_epoch=10, batch_size=256, verbose=1)\n",
    "\n",
    "history_object = model.fit_generator(train_generator, samples_per_epoch=len(train_lines), \\\n",
    "                                     validation_data=validation_generator, \\\n",
    "                                     nb_val_samples=len(validation_lines), \\\n",
    "                                     nb_epoch=25, \\\n",
    "                                     verbose = 1)\n",
    "\n",
    "# model.save('model_center_andLeftRight_cropped_TwoTracks_AlexNet.h5')\n",
    "model.save('model_center_andLeftRight_cropped_TwoTracks_NvidiaNet.h5')\n"
   ]
  },
  {
   "cell_type": "code",
   "execution_count": 5,
   "metadata": {},
   "outputs": [
    {
     "name": "stdout",
     "output_type": "stream",
     "text": [
      "dict_keys(['loss', 'val_loss'])\n"
     ]
    },
    {
     "data": {
      "image/png": "[encoded data removed]",
      "text/plain": [
       "<matplotlib.figure.Figure at 0x7fa7281beda0>"
      ]
     },
     "metadata": {},
     "output_type": "display_data"
    }
   ],
   "source": [
    "from keras.models import Model\n",
    "import matplotlib.pyplot as plt\n",
    "\n",
    "### print the keys contained in the history object\n",
    "print(history_object.history.keys())\n",
    "\n",
    "### plot the training and validation loss for each epoch\n",
    "plt.plot(history_object.history['loss'])\n",
    "plt.plot(history_object.history['val_loss'])\n",
    "plt.title('model mean squared error loss')\n",
    "plt.ylabel('mean squared error loss')\n",
    "plt.xlabel('epoch')\n",
    "plt.legend(['training set', 'validation set'], loc='upper right')\n",
    "plt.show()"
   ]
  },
  {
   "cell_type": "code",
   "execution_count": null,
   "metadata": {
    "collapsed": true
   },
   "outputs": [],
   "source": []
  }
 ],
 "metadata": {
  "anaconda-cloud": {},
  "kernelspec": {
   "display_name": "Python 3",
   "language": "python",
   "name": "python3"
  },
  "language_info": {
   "codemirror_mode": {
    "name": "ipython",
    "version": 3
   },
   "file_extension": ".py",
   "mimetype": "text/x-python",
   "name": "python",
   "nbconvert_exporter": "python",
   "pygments_lexer": "ipython3",
   "version": "3.5.2"
  },
  "widgets": {
   "state": {},
   "version": "1.1.2"
  }
 },
 "nbformat": 4,
 "nbformat_minor": 2
}
