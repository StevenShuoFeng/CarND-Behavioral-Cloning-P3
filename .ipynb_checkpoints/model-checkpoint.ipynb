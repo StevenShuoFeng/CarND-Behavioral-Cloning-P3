{
 "cells": [
  {
   "cell_type": "markdown",
   "metadata": {},
   "source": [
    "The generator will load a batch of training samples each time. And for each single training sample, 3 images are all used from 3 cameras and 6 training samples are created after flipping left-right."
   ]
  },
  {
   "cell_type": "code",
   "execution_count": null,
   "metadata": {
    "collapsed": true
   },
   "outputs": [],
   "source": [
    "import csv\n",
    "import cv2\n",
    "import numpy as np\n",
    "import sklearn\n",
    "from sklearn.utils import shuffle\n",
    "\n",
    "def loadImageFromSingleTimeFrame(line):\n",
    "    xs = []\n",
    "    ys = []\n",
    "    \n",
    "    correction = 0.22\n",
    "    \n",
    "    for view in range(3):\n",
    "        origPath = line[view]\n",
    "        filename = origPath.split('/')[-1]\n",
    "        newPath = \"data/IMG/\" + filename\n",
    "        \n",
    "        x = cv2.imread(newPath)\n",
    "        x = cv2.cvtColor(x, cv2.COLOR_BGR2RGB)\n",
    "        \n",
    "        steer = float(line[3])\n",
    "                       \n",
    "        if view == 1: # Left view\n",
    "            steer += correction\n",
    "        if view == 2: # Right view\n",
    "            steer -= correction\n",
    "        \n",
    "        xs.append(np.array(x))\n",
    "        ys.append(steer)\n",
    "        \n",
    "    \n",
    "    return xs,ys\n",
    "\n",
    "def generator(samples, batch_size=32):\n",
    "    num_samples = len(samples)\n",
    "    while 1: # Loop forever so the generator never terminates\n",
    "        shuffle(samples)\n",
    "        for offset in range(0, num_samples, batch_size):\n",
    "            batch_samples = samples[offset:offset+batch_size]\n",
    "\n",
    "            images = []\n",
    "            angles = []\n",
    "            for line_sample in batch_samples:\n",
    "                xs, ys = loadImageFromSingleTimeFrame(line_sample)\n",
    "                for i in range(len(xs)):\n",
    "                    x = xs[i]\n",
    "                    y = ys[i]\n",
    "                    images.append(x)\n",
    "                    angles.append(y)\n",
    "                    images.append(cv2.flip(x, 1))\n",
    "                    angles.append(-1*y)\n",
    "\n",
    "            X_train = np.array(images)\n",
    "            y_train = np.array(angles)\n",
    "            yield shuffle(X_train, y_train)\n"
   ]
  },
  {
   "cell_type": "markdown",
   "metadata": {},
   "source": [
    "Build the neural network model structure. Two versions of networks are tried out, the AlexNet and the NvidiaNet."
   ]
  },
  {
   "cell_type": "code",
   "execution_count": null,
   "metadata": {},
   "outputs": [
    {
     "ename": "NameError",
     "evalue": "name 'F' is not defined",
     "output_type": "error",
     "traceback": [
      "\u001b[0;31m-------------------------------------------------------------------\u001b[0m",
      "\u001b[0;31mNameError\u001b[0m                         Traceback (most recent call last)",
      "\u001b[0;32m<ipython-input-2-7ef947ef015d>\u001b[0m in \u001b[0;36m<module>\u001b[0;34m()\u001b[0m\n\u001b[1;32m      1\u001b[0m \u001b[0museAlexNet\u001b[0m \u001b[0;34m=\u001b[0m \u001b[0;32mTrue\u001b[0m\u001b[0;34m\u001b[0m\u001b[0m\n\u001b[0;32m----> 2\u001b[0;31m \u001b[0museAlexNet\u001b[0m \u001b[0;34m=\u001b[0m \u001b[0mF\u001b[0m\u001b[0;34m\u001b[0m\u001b[0m\n\u001b[0m",
      "\u001b[0;31mNameError\u001b[0m: name 'F' is not defined"
     ]
    }
   ],
   "source": [
    "useAlexNet = True\n",
    "useAlexNet = F"
   ]
  },
  {
   "cell_type": "code",
   "execution_count": null,
   "metadata": {},
   "outputs": [],
   "source": [
    "from keras.models import Sequential\n",
    "from keras.layers import Input, Flatten, Dense, Lambda, Convolution2D,MaxPooling2D, Dropout, Cropping2D\n",
    "from keras.optimizers import Adam\n",
    "import tensorflow as tf\n",
    "\n",
    "top_crop, bottom_crop = 60, 20\n",
    "ch, row, col = 3, 160, 320  # Trimmed image format\n",
    "\n",
    "model = Sequential()\n",
    "model.add(Lambda(lambda x:x/127.5 - 1.0, input_shape=(row,col,ch)))\n",
    "# trim image to only see section with road\n",
    "model.add(Cropping2D(cropping=((top_crop,bottom_crop), (0,0)), dim_ordering='tf'))\n",
    "# model.add(Lambda(lambda image: tf.image.resize_images(image, (64, 64))))\n",
    "    \n",
    "def AlexNet(model):\n",
    "    model.add(Convolution2D(6,5,5,activation=\"relu\"))\n",
    "    model.add(MaxPooling2D())\n",
    "    model.add(Convolution2D(6,5,5,activation=\"relu\"))\n",
    "    model.add(MaxPooling2D())\n",
    "    model.add(Flatten())\n",
    "    model.add(Dense(120))\n",
    "    model.add(Dropout(0.2))\n",
    "    model.add(Dense(84))\n",
    "    model.add(Dropout(0.2))\n",
    "    model.add(Dense(1))\n",
    "    return model\n",
    "\n",
    "def NvidiaNet(model):\n",
    "    model.add(Convolution2D(24,2,5, subsample=(2,4),activation=\"relu\"))\n",
    "    model.add(Convolution2D(36,2,5, subsample=(2,4),activation=\"relu\"))\n",
    "    model.add(Convolution2D(48,5,5, subsample=(2,2),activation=\"relu\"))\n",
    "    model.add(Convolution2D(64,3,3, activation=\"relu\"))\n",
    "    model.add(Convolution2D(64,3,3, activation=\"relu\"))\n",
    "    model.add(Flatten())\n",
    "    model.add(Dropout(0.2))\n",
    "    model.add(Dense(100))\n",
    "    model.add(Dropout(0.2))\n",
    "    model.add(Dense(50))\n",
    "    model.add(Dense(10))\n",
    "    model.add(Dense(1))\n",
    "    return model\n",
    "\n",
    "if useAlexNet:\n",
    "    model = AlexNet(model)\n",
    "else:\n",
    "    model = NvidiaNet(model)\n",
    "    \n",
    "mode.summary()"
   ]
  },
  {
   "cell_type": "code",
   "execution_count": null,
   "metadata": {},
   "outputs": [],
   "source": [
    "\n",
    "# load training file list\n",
    "lines = []\n",
    "with open('data/driving_log.csv') as csvfile:\n",
    "    reader = csv.reader(csvfile)\n",
    "    for line in reader:\n",
    "        lines.append(line)\n",
    "        \n",
    "from sklearn.model_selection import train_test_split\n",
    "train_lines, validation_lines = train_test_split(lines, test_size=0.2)\n",
    "\n",
    "print('Training size: ', len(train_lines))\n",
    "print('Validation size: ', len(validation_lines))\n",
    "\n",
    "batchSize = 128\n",
    "# compile and train the model using the generator function\n",
    "train_generator = generator(train_lines, batch_size=batchSize)\n",
    "validation_generator = generator(validation_lines, batch_size=batchSize)\n"
   ]
  },
  {
   "cell_type": "code",
   "execution_count": null,
   "metadata": {},
   "outputs": [],
   "source": [
    "\n",
    "adam = Adam(lr=1e-4, beta_1=0.9, beta_2=0.999, epsilon=1e-08, decay=0.0)\n",
    "model.compile(loss='mse', optimizer=adam)\n",
    "\n",
    "# history_object = model.fit(X_train, y_train, validation_split=0.2, shuffle=True, nb_epoch=10, batch_size=256, verbose=1)\n",
    "\n",
    "history_object = model.fit_generator(train_generator, samples_per_epoch=len(train_lines), \\\n",
    "                                     validation_data=validation_generator, \\\n",
    "                                     nb_val_samples=len(validation_lines), \\\n",
    "                                     nb_epoch=25, \\\n",
    "                                     verbose = 1)\n",
    "\n",
    "if useAlexNet:\n",
    "    model.save('model_center_andLeftRight_cropped_TwoTracks_AlexNet.h5')\n",
    "else:\n",
    "    model.save('model_center_andLeftRight_cropped_TwoTracks_NvidiaNet.h5')\n"
   ]
  },
  {
   "cell_type": "code",
   "execution_count": null,
   "metadata": {
    "collapsed": true
   },
   "outputs": [],
   "source": []
  },
  {
   "cell_type": "code",
   "execution_count": null,
   "metadata": {},
   "outputs": [],
   "source": [
    "print(model.summary())\n",
    "\n",
    "import json\n",
    "\n",
    "json_string = model.to_json()\n",
    "filename_jsonModel = 'model_center_andLeftRight_cropped_TwoTracks_NvidiaNet.json'\n",
    "with open(filename_jsonModel, 'w') as jfile:\n",
    "    json.dump(json_string, jfile)"
   ]
  },
  {
   "cell_type": "code",
   "execution_count": null,
   "metadata": {},
   "outputs": [],
   "source": [
    "from keras.models import Model\n",
    "import matplotlib.pyplot as plt\n",
    "\n",
    "### print the keys contained in the history object\n",
    "print(history_object.history.keys())\n",
    "\n",
    "### plot the training and validation loss for each epoch\n",
    "plt.plot(history_object.history['loss'])\n",
    "plt.plot(history_object.history['val_loss'])\n",
    "plt.title('model mean squared error loss')\n",
    "plt.ylabel('mean squared error loss')\n",
    "plt.xlabel('epoch')\n",
    "plt.legend(['training set', 'validation set'], loc='upper right')\n",
    "plt.show()"
   ]
  },
  {
   "cell_type": "code",
   "execution_count": null,
   "metadata": {
    "collapsed": true
   },
   "outputs": [],
   "source": []
  },
  {
   "cell_type": "code",
   "execution_count": null,
   "metadata": {
    "collapsed": true
   },
   "outputs": [],
   "source": []
  }
 ],
 "metadata": {
  "anaconda-cloud": {},
  "kernelspec": {
   "display_name": "Python 3",
   "language": "python",
   "name": "python3"
  },
  "language_info": {
   "codemirror_mode": {
    "name": "ipython",
    "version": 3
   },
   "file_extension": ".py",
   "mimetype": "text/x-python",
   "name": "python",
   "nbconvert_exporter": "python",
   "pygments_lexer": "ipython3",
   "version": "3.5.2"
  },
  "widgets": {
   "state": {},
   "version": "1.1.2"
  }
 },
 "nbformat": 4,
 "nbformat_minor": 2
}
